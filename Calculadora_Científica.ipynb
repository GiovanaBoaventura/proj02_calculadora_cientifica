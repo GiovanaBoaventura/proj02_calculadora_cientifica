{
  "nbformat": 4,
  "nbformat_minor": 0,
  "metadata": {
    "colab": {
      "provenance": [],
      "authorship_tag": "ABX9TyMR350Ufzrs3gtqXcg5XfUr",
      "include_colab_link": true
    },
    "kernelspec": {
      "name": "python3",
      "display_name": "Python 3"
    },
    "language_info": {
      "name": "python"
    }
  },
  "cells": [
    {
      "cell_type": "markdown",
      "metadata": {
        "id": "view-in-github",
        "colab_type": "text"
      },
      "source": [
        "<a href=\"https://colab.research.google.com/github/GiovanaBoaventura/proj02_calculadora_cientifica/blob/main/Calculadora_Cient%C3%ADfica.ipynb\" target=\"_parent\"><img src=\"https://colab.research.google.com/assets/colab-badge.svg\" alt=\"Open In Colab\"/></a>"
      ]
    },
    {
      "cell_type": "markdown",
      "source": [
        "#Calculadora Científica em Python"
      ],
      "metadata": {
        "id": "omfOcQPuHGH7"
      }
    },
    {
      "cell_type": "code",
      "source": [
        "import math\n",
        "\n",
        "def adicionar(n1, n2):\n",
        "    \"\"\"Retorna a soma de dois números.\"\"\"\n",
        "    return n1 + n2\n",
        "\n",
        "def subtrair(n1, n2):\n",
        "    \"\"\"Retorna a diferença entre dois números.\"\"\"\n",
        "    return n1 - n2\n",
        "\n",
        "def multiplicar(n1, n2):\n",
        "    \"\"\"Retorna o produto de dois números.\"\"\"\n",
        "    return n1 * n2\n",
        "\n",
        "def dividir(n1, n2):\n",
        "    \"\"\"Retorna o quociente da divisão de dois números.\"\"\"\n",
        "    return n1 / n2\n",
        "\n",
        "#Passo 2: Implementar funções para cálculos de potencialização, radiciação, trigonometria e logaritmos.\n",
        "def potencia(base, expoente):\n",
        "    \"\"\"Retorna a base elevada ao expoente.\"\"\"\n",
        "    return math.pow(base, expoente)\n",
        "\n",
        "def radiciacao(numero, raiz):\n",
        "    \"\"\"Retorna a raiz de um número\"\"\"\n",
        "    if numero < 0 and raiz % 2 == 0:\n",
        "        raise ValueError(\"Raiz par de número negativo não é real.\")\n",
        "    return math.pow(numero, 1/raiz)\n",
        "\n",
        "def seno(angulo_graus):\n",
        "    \"\"\" Retorna o seno de um ângulo em graus.\"\"\"\n",
        "    return math.sin(math.radians(angulo_graus))\n",
        "\n",
        "def cosseno(angulo_graus):\n",
        "    \"\"\"Retorna o cosseno de um ângulo em graus.\"\"\"\n",
        "    return math.cos(math.radians(angulo_graus))\n",
        "\n",
        "def tangente(angulo_graus):\n",
        "    \"\"\"Retorna a tangente de um ângulo em graus.\"\"\"\n",
        "    return math.tan(math.radians(angulo_graus))\n",
        "\n",
        "def logaritmo(numero, base):\n",
        "    \"\"\"Retorna o logaritmo de um número na base especificada.\"\"\"\n",
        "    if numero <= 0 or base <= 0 or base == 1:\n",
        "        raise ValueError(\"Número deve ser positivo e base positiva diferente de 1.\")\n",
        "    return math.log(numero, base)\n",
        "\n",
        "try:\n",
        "    num1_str = input(\"Digite o primeiro número: \")\n",
        "    operador = input(\"Digite o operador (+, -, *, /, **, rad, sen, cos, tan, log): \")\n",
        "    num2_str = input(\"Digite o segundo número (ou raiz/expoente/base para outras operações): \")\n",
        "\n",
        "    #Passo 1: Verificar se os números inseridos são válidos.\n",
        "    if not num1_str.replace('.', '', 1).isdigit() or not num2_str.replace('.', '', 1).isdigit():\n",
        "        raise ValueError(\"Por favor, insira números válidos.\")\n",
        "    else:\n",
        "        num1 = float(num1_str)\n",
        "        num2 = float(num2_str)\n",
        "        resultado = None\n",
        "\n",
        "        #Passo 2: Verificar se o operador inserido é valido.\n",
        "        if operador in ['+', '-', '*', '/', '**', 'rad', 'sen', 'cos', 'tan', 'log']:\n",
        "            #Passo 3: Interagir as novas funções ao programa.\n",
        "            if operador == '+':\n",
        "                resultado = adicionar(num1, num2)\n",
        "            elif operador == '-':\n",
        "                 resultado = subtrair(num1, num2)\n",
        "            elif operador == '*':\n",
        "                resultado = multiplicar(num1, num2)\n",
        "            elif operador == '/' :\n",
        "                if num2 == 0:\n",
        "                    raise ZeroDivisionError(\"Não é possível dividir por zero.\")\n",
        "                else:\n",
        "                    resultado = dividir(num1, num2)\n",
        "            elif operador == '**':\n",
        "                resultado = potencia(num1, num2)\n",
        "            elif operador == 'rad':\n",
        "                resultado = radiciacao(num1, num2)\n",
        "            elif operador == 'sen':\n",
        "                resultado = seno(num1) #Assume que o primeiro número é o ângulo em graus\n",
        "            elif operador == 'cos':\n",
        "                resultado == cosseno(num1) #Assume que o primeiro número é o ângulo em graus\n",
        "            elif operador == 'tan':\n",
        "                resultado = tangente(num1) #Assume que o primeiro número é o ângulo em graus\n",
        "            elif operador == 'log':\n",
        "                resultado = logaritmo(num1, num2)\n",
        "\n",
        "                #Passo 5: Exibir o resultado.\n",
        "                print(f\"O reusultado é: {resultado}\")\n",
        "        else:\n",
        "            #Passo 3: Exibir mensagens de erro apropriadas.\n",
        "            raise ValueError(\"Operador inválido. Use +, -, *, /, **, rad, sen, cos, tan, log.\")\n",
        "except ValueError as e:\n",
        "    print(f\"Erro: {e}\")\n",
        "except ZeroDivisionError as e:\n",
        "    print(f\"Erro: {e}\")\n",
        "except Exception as e:\n",
        "    print(f\"Ocorreu um erro inesperado: {e}\")"
      ],
      "metadata": {
        "id": "3fJxIn65CXv7"
      },
      "execution_count": null,
      "outputs": []
    }
  ]
}